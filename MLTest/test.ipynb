{
 "cells": [
  {
   "cell_type": "code",
   "execution_count": 10,
   "outputs": [],
   "source": [
    "import numpy as np\n",
    "import pandas as pd\n",
    "import matplotlib.pyplot as plt\n",
    "import PIL.Image\n",
    "import os\n",
    "import tensorflow as tf\n",
    "from keras.preprocessing.image import ImageDataGenerator, img_to_array\n",
    "from keras.preprocessing import image\n",
    "from tqdm import tqdm\n",
    "import warnings\n",
    "warnings.filterwarnings(\"ignore\")"
   ],
   "metadata": {
    "collapsed": false,
    "pycharm": {
     "name": "#%%\n"
    }
   }
  },
  {
   "cell_type": "code",
   "execution_count": 11,
   "outputs": [
    {
     "name": "stdout",
     "output_type": "stream",
     "text": [
      "Shape of train data : (5286, 6)\n",
      "Shape of test data : (624, 6)\n"
     ]
    }
   ],
   "source": [
    "train_df = pd.read_csv('/Users/kos/Desktop/test data/ChestRay/Chest_xray_Corona_Metadata.csv')\n",
    "train_df.dropna(how='all')\n",
    "train_df.fillna('unknown', inplace=True)\n",
    "train_data = train_df[train_df['Dataset_type'] == 'TRAIN']\n",
    "test_data = train_df[train_df['Dataset_type'] == 'TEST']\n",
    "assert train_data.shape[0] + test_data.shape[0] == train_df.shape[0]\n",
    "print(f\"Shape of train data : {train_data.shape}\")\n",
    "print(f\"Shape of test data : {test_data.shape}\")"
   ],
   "metadata": {
    "collapsed": false,
    "pycharm": {
     "name": "#%%\n"
    }
   }
  },
  {
   "cell_type": "code",
   "execution_count": 12,
   "outputs": [],
   "source": [
    "test_img_dir = '/Users/kos/Desktop/test data/ChestRay/Coronahack-Chest-XRay-Dataset' \\\n",
    "               '/Coronahack-Chest-XRay-Dataset/test'\n",
    "train_img_dir = '/Users/kos/Desktop/test data/ChestRay/Coronahack-Chest-XRay-Dataset' \\\n",
    "                '/Coronahack-Chest-XRay-Dataset/train'\n",
    "\n",
    "sample_train_images = list(os.walk(train_img_dir))[0][2][:8]\n",
    "sample_train_images = list(map(lambda x: os.path.join(train_img_dir, x), sample_train_images))\n",
    "\n",
    "sample_test_images = list(os.walk(test_img_dir))[0][2][:8]\n",
    "sample_test_images = list(map(lambda x: os.path.join(test_img_dir, x), sample_test_images))"
   ],
   "metadata": {
    "collapsed": false,
    "pycharm": {
     "name": "#%%\n"
    }
   }
  },
  {
   "cell_type": "code",
   "execution_count": 13,
   "outputs": [],
   "source": [
    "# remove Pnuemonia with unknown value\n",
    "final_train_data = train_data[(train_data['Label'] == 'Normal') |\n",
    "                              ((train_data['Label'] == 'Pnemonia') &\n",
    "                               (train_data['Label_2_Virus_category'] == 'COVID-19'))]\n",
    "\n",
    "# add a target and class feature\n",
    "final_train_data['class'] = final_train_data.Label.apply(lambda x: 'negative' if x == 'Normal' else 'positive')\n",
    "test_data['class'] = test_data.Label.apply(lambda x: 'negative' if x == 'Normal' else 'positive')\n",
    "\n",
    "final_train_data['target'] = final_train_data.Label.apply(lambda x: 0 if x=='Normal' else 1)\n",
    "test_data['target'] = test_data.Label.apply(lambda x: 0 if x == 'Normal' else 1)\n",
    "# get the important features\n",
    "final_train_data = final_train_data[['X_ray_image_name', 'class', 'target', 'Label_2_Virus_category']]\n",
    "final_test_data = test_data[['X_ray_image_name', 'class', 'target']]"
   ],
   "metadata": {
    "collapsed": false,
    "pycharm": {
     "name": "#%%\n"
    }
   }
  },
  {
   "cell_type": "code",
   "execution_count": 14,
   "outputs": [
    {
     "name": "stderr",
     "output_type": "stream",
     "text": [
      "20it [00:00, 156.62it/s]             \n",
      "20it [00:00, 193.11it/s]             \n",
      "20it [00:00, 177.12it/s]             \n",
      "20it [00:00, 166.74it/s]             \n",
      "20it [00:00, 181.26it/s]             \n",
      "20it [00:00, 188.79it/s]             \n",
      "20it [00:00, 176.88it/s]             \n",
      "20it [00:00, 175.53it/s]             \n",
      "20it [00:00, 179.92it/s]             \n",
      "20it [00:00, 188.74it/s]             \n",
      "20it [00:00, 186.26it/s]             \n",
      "20it [00:00, 181.37it/s]             \n",
      "20it [00:00, 193.73it/s]             \n",
      "20it [00:00, 181.93it/s]             \n",
      "20it [00:00, 181.57it/s]             \n",
      "20it [00:00, 191.33it/s]             \n",
      "20it [00:00, 188.71it/s]             \n",
      "20it [00:00, 195.55it/s]             \n",
      "20it [00:00, 192.05it/s]             \n",
      "20it [00:00, 188.00it/s]             \n",
      "20it [00:00, 185.16it/s]             \n",
      "20it [00:00, 187.35it/s]             \n",
      "20it [00:00, 184.34it/s]             \n",
      "20it [00:00, 179.33it/s]             \n",
      "20it [00:00, 190.91it/s]             \n",
      "20it [00:00, 178.45it/s]             \n",
      "20it [00:00, 179.85it/s]             \n",
      "20it [00:00, 171.12it/s]             \n",
      "20it [00:00, 186.17it/s]             \n",
      "20it [00:00, 192.64it/s]             \n",
      "20it [00:00, 182.27it/s]             \n",
      "20it [00:00, 180.76it/s]             \n",
      "20it [00:00, 192.41it/s]             \n",
      "20it [00:00, 180.60it/s]             \n",
      "20it [00:00, 155.45it/s]             \n",
      "20it [00:00, 179.79it/s]             \n",
      "20it [00:00, 187.34it/s]             \n",
      "20it [00:00, 191.36it/s]             \n",
      "20it [00:00, 192.31it/s]             \n",
      "20it [00:00, 185.31it/s]             \n",
      "20it [00:00, 173.57it/s]             \n",
      "20it [00:00, 185.66it/s]             \n",
      "20it [00:00, 184.90it/s]             \n",
      "20it [00:00, 185.22it/s]             \n",
      "20it [00:00, 184.53it/s]             \n",
      "20it [00:00, 188.02it/s]             \n",
      "20it [00:00, 193.36it/s]             \n",
      "20it [00:00, 196.71it/s]             \n",
      "20it [00:00, 177.19it/s]             \n",
      "20it [00:00, 186.76it/s]             \n",
      "20it [00:00, 191.04it/s]             \n",
      "20it [00:00, 188.89it/s]             \n",
      "20it [00:00, 179.83it/s]             \n",
      "20it [00:00, 183.95it/s]             \n",
      "20it [00:00, 183.02it/s]             \n",
      "20it [00:00, 136.75it/s]             \n",
      "20it [00:00, 190.57it/s]             \n",
      "20it [00:00, 183.98it/s]             "
     ]
    },
    {
     "name": "stdout",
     "output_type": "stream",
     "text": [
      "5221    None\n",
      "5222    None\n",
      "5223    None\n",
      "5224    None\n",
      "5225    None\n",
      "5226    None\n",
      "5227    None\n",
      "5228    None\n",
      "5229    None\n",
      "5230    None\n",
      "5237    None\n",
      "5238    None\n",
      "5239    None\n",
      "5240    None\n",
      "5242    None\n",
      "5243    None\n",
      "5244    None\n",
      "5245    None\n",
      "5246    None\n",
      "5247    None\n",
      "5248    None\n",
      "5249    None\n",
      "5250    None\n",
      "5251    None\n",
      "5252    None\n",
      "5253    None\n",
      "5254    None\n",
      "5255    None\n",
      "5256    None\n",
      "5257    None\n",
      "5258    None\n",
      "5259    None\n",
      "5260    None\n",
      "5261    None\n",
      "5262    None\n",
      "5263    None\n",
      "5264    None\n",
      "5265    None\n",
      "5266    None\n",
      "5267    None\n",
      "5268    None\n",
      "5269    None\n",
      "5270    None\n",
      "5271    None\n",
      "5272    None\n",
      "5273    None\n",
      "5274    None\n",
      "5275    None\n",
      "5276    None\n",
      "5277    None\n",
      "5278    None\n",
      "5279    None\n",
      "5280    None\n",
      "5281    None\n",
      "5282    None\n",
      "5283    None\n",
      "5284    None\n",
      "5285    None\n",
      "Name: X_ray_image_name, dtype: object\n"
     ]
    },
    {
     "name": "stderr",
     "output_type": "stream",
     "text": [
      "\n"
     ]
    }
   ],
   "source": [
    "datagen = ImageDataGenerator(\n",
    "  shear_range=0.2,\n",
    "  zoom_range=0.2,\n",
    ")\n",
    "\n",
    "def read_img(filename, size, path):\n",
    "    img = image.load_img(os.path.join(path, filename), target_size=size)\n",
    "    img = img_to_array(img) / 255\n",
    "    return img\n",
    "\n",
    "\n",
    "corona_df = final_train_data[final_train_data['Label_2_Virus_category'] == 'COVID-19']\n",
    "with_corona_augmented = []\n",
    "\n",
    "# create a function for augmentation\n",
    "def augment(name):\n",
    "    img = read_img(name, (255,255), train_img_dir)\n",
    "    i = 0\n",
    "    for batch in tqdm(datagen.flow(tf.expand_dims(img, 0), batch_size=32)):\n",
    "        with_corona_augmented.append(tf.squeeze(batch).numpy())\n",
    "        if i == 20:\n",
    "            break\n",
    "        i = i + 1\n",
    "\n",
    "\n",
    "# apply the function\n",
    "print(corona_df['X_ray_image_name'].apply(augment))"
   ],
   "metadata": {
    "collapsed": false,
    "pycharm": {
     "name": "#%%\n"
    }
   }
  },
  {
   "cell_type": "code",
   "execution_count": 15,
   "outputs": [
    {
     "data": {
      "text/plain": "5286    None\n5287    None\n5288    None\n5289    None\n5290    None\n        ... \n5905    None\n5906    None\n5907    None\n5908    None\n5909    None\nName: X_ray_image_name, Length: 624, dtype: object"
     },
     "execution_count": 15,
     "metadata": {},
     "output_type": "execute_result"
    }
   ],
   "source": [
    "train_arrays = []\n",
    "final_train_data['X_ray_image_name'].apply(lambda x: train_arrays.append(read_img(x, (255, 255), train_img_dir)))\n",
    "test_arrays = []\n",
    "final_test_data['X_ray_image_name'].apply(lambda x: test_arrays.append(read_img(x, (255, 255), test_img_dir)))"
   ],
   "metadata": {
    "collapsed": false,
    "pycharm": {
     "name": "#%%\n"
    }
   }
  },
  {
   "cell_type": "code",
   "execution_count": 16,
   "outputs": [],
   "source": [
    "# concatenate the training data labels and the labels for augmented images\n",
    "y_train = np.concatenate((np.int64(final_train_data['target'].values),\n",
    "                          np.ones(len(with_corona_augmented), dtype=np.int64)))"
   ],
   "metadata": {
    "collapsed": false,
    "pycharm": {
     "name": "#%%\n"
    }
   }
  },
  {
   "cell_type": "code",
   "execution_count": null,
   "outputs": [],
   "source": [],
   "metadata": {
    "collapsed": false,
    "pycharm": {
     "name": "#%%\n"
    }
   }
  }
 ],
 "metadata": {
  "kernelspec": {
   "display_name": "Python 3",
   "language": "python",
   "name": "python3"
  },
  "language_info": {
   "codemirror_mode": {
    "name": "ipython",
    "version": 2
   },
   "file_extension": ".py",
   "mimetype": "text/x-python",
   "name": "python",
   "nbconvert_exporter": "python",
   "pygments_lexer": "ipython2",
   "version": "2.7.6"
  }
 },
 "nbformat": 4,
 "nbformat_minor": 0
}