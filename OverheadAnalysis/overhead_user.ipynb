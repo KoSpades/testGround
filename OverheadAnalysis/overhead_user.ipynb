{
 "cells": [
  {
   "cell_type": "code",
   "execution_count": 56,
   "outputs": [],
   "source": [
    "# All the csvs we are reading in has exactly 25 rows\n",
    "# every 5 row correspond to a particular (# of function, # of DE) combination.\n",
    "# Which gives us 20 different combos in total.\n",
    "\n",
    "import pandas as pd\n",
    "import numpy as np\n",
    "import matplotlib.pyplot as plt\n",
    "\n",
    "# Set up list for API numbers\n",
    "block_num_list = [\"5\", \"10\", \"50\", \"100\"]\n",
    "\n",
    "# Set labels for the x-axis\n",
    "num_DE = [\"10\", \"100\", \"500\", \"1000\", \"5000\"]\n",
    "\n",
    "# set_up median overhead array for all number of APIs\n",
    "med_array_all = []"
   ],
   "metadata": {
    "collapsed": false,
    "pycharm": {
     "name": "#%%\n"
    }
   }
  },
  {
   "cell_type": "code",
   "execution_count": 57,
   "outputs": [],
   "source": [
    "for block_num in block_num_list:\n",
    "    num_func_name = \"block\" + block_num\n",
    "    input_file_path = num_func_name + \".csv\"\n",
    "    output_figure_path = num_func_name + \".png\"\n",
    "    raw_df = pd.read_csv(input_file_path, header=None)\n",
    "    raw_arr = np.array(raw_df).reshape(5, 5, 5)\n",
    "    med_array = []\n",
    "    for i in range(5):\n",
    "        cur_med = np.median(raw_arr[i], axis=0)\n",
    "        med_array.append(cur_med)\n",
    "    med_array = np.transpose(med_array)\n",
    "    # Transform the med_array: we only want to keep three components of overhead\n",
    "    # 1) get accessible DE, 2) start execution environment, 3) others\n",
    "    med_array[0] = med_array[0]+med_array[3]+med_array[4]\n",
    "    med_array = med_array[:3]\n",
    "    med_array_all.append(med_array)\n",
    "    # fig, ax = plt.subplots()\n",
    "    # ax.bar(num_DE, med_array[1], label='Get accessible DE')\n",
    "    # ax.bar(num_DE, med_array[2], bottom=med_array[1], label='Start exec environment')\n",
    "    # ax.bar(num_DE, med_array[0], bottom=med_array[1]+med_array[2], label='Others')\n",
    "    # ax.legend()\n",
    "    # plt.savefig(output_figure_path, facecolor='w')"
   ],
   "metadata": {
    "collapsed": false,
    "pycharm": {
     "name": "#%%\n"
    }
   }
  },
  {
   "cell_type": "code",
   "execution_count": 58,
   "outputs": [
    {
     "data": {
      "text/plain": "array([[0.01284146, 0.01312494, 0.01220274, 0.01416993, 0.01742697],\n       [0.01038527, 0.01500583, 0.0501101 , 0.23166251, 0.63064003],\n       [0.00501943, 0.00571108, 0.01616359, 0.05676699, 0.17300344]])"
     },
     "execution_count": 58,
     "metadata": {},
     "output_type": "execute_result"
    }
   ],
   "source": [
    "med_array_all[0]"
   ],
   "metadata": {
    "collapsed": false,
    "pycharm": {
     "name": "#%%\n"
    }
   }
  },
  {
   "cell_type": "code",
   "execution_count": 60,
   "outputs": [
    {
     "data": {
      "text/plain": "<Figure size 432x288 with 1 Axes>",
      "image/png": "[encoded data removed]"
     },
     "metadata": {
      "needs_background": "light"
     },
     "output_type": "display_data"
    }
   ],
   "source": [
    "# fig, ax = plt.subplots()\n",
    "# for i in range(len(med_array_all)):\n",
    "#     ax.bar(num_DE, med_array_all[i][1], label='Get accessible DE')\n",
    "#     ax.bar(num_DE, med_array_all[i][2], bottom=med_array_all[i][1], label='Start exec environment')\n",
    "#     ax.bar(num_DE, med_array_all[i][0], bottom=med_array_all[i][1]+med_array_all[i][2], label='Others')\n",
    "# ax.legend()\n",
    "# plt.savefig(\"test.png\", facecolor='w')\n",
    "num_DE_axis = np.arange(len(num_DE))\n",
    "\n",
    "plt.bar(num_DE_axis-0.3, med_array_all[0][1], label='Get accessible DE 5', width=0.2)\n",
    "plt.bar(num_DE_axis-0.1, med_array_all[1][1], label='Get accessible DE 10', width=0.2)\n",
    "plt.bar(num_DE_axis+0.1, med_array_all[2][1], label='Get accessible DE 50', width=0.2)\n",
    "plt.bar(num_DE_axis+0.3, med_array_all[3][1], label='Get accessible DE 100', width=0.2)\n",
    "\n",
    "plt.xticks(num_DE_axis, num_DE)\n",
    "plt.xlabel(\"Number of DEs\")\n",
    "plt.ylabel(\"Runtime (s)\")\n",
    "plt.legend()\n",
    "plt.savefig(\"test.png\", facecolor='w')"
   ],
   "metadata": {
    "collapsed": false,
    "pycharm": {
     "name": "#%%\n"
    }
   }
  },
  {
   "cell_type": "code",
   "execution_count": 53,
   "outputs": [],
   "source": [],
   "metadata": {
    "collapsed": false,
    "pycharm": {
     "name": "#%%\n"
    }
   }
  },
  {
   "cell_type": "code",
   "execution_count": null,
   "outputs": [],
   "source": [],
   "metadata": {
    "collapsed": false,
    "pycharm": {
     "name": "#%%\n"
    }
   }
  }
 ],
 "metadata": {
  "kernelspec": {
   "display_name": "Python 3",
   "language": "python",
   "name": "python3"
  },
  "language_info": {
   "codemirror_mode": {
    "name": "ipython",
    "version": 2
   },
   "file_extension": ".py",
   "mimetype": "text/x-python",
   "name": "python",
   "nbconvert_exporter": "python",
   "pygments_lexer": "ipython2",
   "version": "2.7.6"
  }
 },
 "nbformat": 4,
 "nbformat_minor": 0
}