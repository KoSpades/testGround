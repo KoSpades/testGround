{
 "cells": [
  {
   "cell_type": "code",
   "execution_count": 1,
   "outputs": [],
   "source": [
    "# All the csvs we are reading in has exactly 25 rows\n",
    "# every 5 row correspond to a particular (# of function, # of DE) combination.\n",
    "# Which gives us 20 different combos in total.\n",
    "\n",
    "import pandas as pd\n",
    "import numpy as np\n",
    "import matplotlib.pyplot as plt\n",
    "\n",
    "# Set up list for API numbers\n",
    "block_num_list = [\"5\", \"10\", \"50\", \"100\"]\n",
    "\n",
    "# Set labels for the x-axis\n",
    "num_DE = [\"10\", \"100\", \"500\", \"1000\", \"5000\"]\n",
    "\n",
    "# set_up median overhead array for all number of APIs\n",
    "med_array_all = []"
   ],
   "metadata": {
    "collapsed": false,
    "pycharm": {
     "name": "#%%\n"
    }
   }
  },
  {
   "cell_type": "code",
   "execution_count": 2,
   "outputs": [],
   "source": [
    "for block_num in block_num_list:\n",
    "    num_func_name = \"block\" + block_num\n",
    "    input_file_path = num_func_name + \".csv\"\n",
    "    output_figure_path = num_func_name + \".png\"\n",
    "    raw_df = pd.read_csv(input_file_path, header=None)\n",
    "    raw_arr = np.array(raw_df).reshape(5, 5, 5)\n",
    "    med_array = []\n",
    "    for i in range(5):\n",
    "        cur_med = np.median(raw_arr[i], axis=0)\n",
    "        med_array.append(cur_med)\n",
    "    med_array = np.transpose(med_array)\n",
    "    # Transform the med_array: we only want to keep two components of overhead\n",
    "    # 1) get accessible DE, 2) others\n",
    "    med_array[0] = med_array[0]+med_array[2]+med_array[3]+med_array[4]\n",
    "    med_array = med_array[:2]\n",
    "    med_array_all.append(med_array)"
   ],
   "metadata": {
    "collapsed": false,
    "pycharm": {
     "name": "#%%\n"
    }
   }
  },
  {
   "cell_type": "code",
   "execution_count": 8,
   "outputs": [
    {
     "data": {
      "text/plain": "array([[0.01786089, 0.01883602, 0.02836633, 0.07093692, 0.1904304 ],\n       [0.01038527, 0.01500583, 0.0501101 , 0.23166251, 0.63064003]])"
     },
     "execution_count": 8,
     "metadata": {},
     "output_type": "execute_result"
    }
   ],
   "source": [
    "med_array_all[0]"
   ],
   "metadata": {
    "collapsed": false,
    "pycharm": {
     "name": "#%%\n"
    }
   }
  },
  {
   "cell_type": "code",
   "execution_count": 10,
   "outputs": [
    {
     "data": {
      "text/plain": "<Figure size 432x288 with 1 Axes>",
      "image/png": "[encoded data removed]"
     },
     "metadata": {
      "needs_background": "light"
     },
     "output_type": "display_data"
    }
   ],
   "source": [
    "num_DE_axis = np.arange(len(num_DE))\n",
    "\n",
    "for i in range(len(block_num_list)):\n",
    "    label_one = 'Get accessible DE F'+block_num_list[i]\n",
    "    label_two = 'Other F'+block_num_list[i]\n",
    "    plt.bar(num_DE_axis-0.3+i*0.2,\n",
    "            med_array_all[i][1],\n",
    "            label=label_one,\n",
    "            width=0.2,\n",
    "            color=\"blue\")\n",
    "    plt.bar(num_DE_axis-0.3+i*0.2,\n",
    "            med_array_all[i][0],\n",
    "            bottom=med_array_all[i][1],\n",
    "            label=label_two,\n",
    "            width=0.2,\n",
    "            color=\"red\",)\n",
    "\n",
    "plt.xticks(num_DE_axis, num_DE)\n",
    "plt.xlabel(\"Number of DEs\")\n",
    "plt.ylabel(\"Runtime (s)\")\n",
    "plt.legend()\n",
    "plt.savefig(\"test.png\", facecolor='w')"
   ],
   "metadata": {
    "collapsed": false,
    "pycharm": {
     "name": "#%%\n"
    }
   }
  },
  {
   "cell_type": "code",
   "execution_count": null,
   "outputs": [],
   "source": [],
   "metadata": {
    "collapsed": false,
    "pycharm": {
     "name": "#%%\n"
    }
   }
  },
  {
   "cell_type": "code",
   "execution_count": null,
   "outputs": [],
   "source": [],
   "metadata": {
    "collapsed": false,
    "pycharm": {
     "name": "#%%\n"
    }
   }
  }
 ],
 "metadata": {
  "kernelspec": {
   "display_name": "Python 3",
   "language": "python",
   "name": "python3"
  },
  "language_info": {
   "codemirror_mode": {
    "name": "ipython",
    "version": 2
   },
   "file_extension": ".py",
   "mimetype": "text/x-python",
   "name": "python",
   "nbconvert_exporter": "python",
   "pygments_lexer": "ipython2",
   "version": "2.7.6"
  }
 },
 "nbformat": 4,
 "nbformat_minor": 0
}