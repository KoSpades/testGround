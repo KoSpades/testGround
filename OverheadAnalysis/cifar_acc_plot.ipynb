{
 "cells": [
  {
   "cell_type": "code",
   "execution_count": 1,
   "metadata": {
    "collapsed": true,
    "pycharm": {
     "name": "#%%\n"
    }
   },
   "outputs": [],
   "source": [
    "import numpy as np\n",
    "import pandas as pd\n",
    "import matplotlib.pyplot as plt\n",
    "\n",
    "base_acc_time = [304, 0.663]\n",
    "ds_acc_time = [390, 0.6533]"
   ]
  },
  {
   "cell_type": "code",
   "execution_count": 2,
   "outputs": [],
   "source": [
    "cifar_acc_df = pd.read_csv(\"cifar_flower_acc.txt\").iloc[:, 1]\n",
    "\n",
    "cifar_acc_arr = []\n",
    "for i in range(len(cifar_acc_df)):\n",
    "    cur_val = float(cifar_acc_df[i][10:])\n",
    "    cifar_acc_arr.append(cur_val)"
   ],
   "metadata": {
    "collapsed": false,
    "pycharm": {
     "name": "#%%\n"
    }
   }
  },
  {
   "cell_type": "code",
   "execution_count": 3,
   "outputs": [
    {
     "data": {
      "text/plain": "[0.135,\n 0.1351,\n 0.139,\n 0.19,\n 0.2077,\n 0.2453,\n 0.2632,\n 0.2747,\n 0.2899,\n 0.3065,\n 0.3248,\n 0.3317,\n 0.3444,\n 0.3446,\n 0.3626,\n 0.3737,\n 0.3816,\n 0.3942,\n 0.4003,\n 0.4077,\n 0.4081,\n 0.4172,\n 0.4236,\n 0.4403,\n 0.4359,\n 0.4475,\n 0.4558,\n 0.4618,\n 0.4687,\n 0.4626,\n 0.4724,\n 0.4754,\n 0.4816,\n 0.4824,\n 0.4837,\n 0.4914,\n 0.4944,\n 0.502,\n 0.4888,\n 0.5051,\n 0.513,\n 0.5192,\n 0.5184,\n 0.5204,\n 0.5223,\n 0.5285,\n 0.5275,\n 0.5302,\n 0.5346,\n 0.5328,\n 0.5377,\n 0.541,\n 0.5388,\n 0.5374,\n 0.5438,\n 0.5534,\n 0.549,\n 0.5471,\n 0.5635,\n 0.5582,\n 0.5608,\n 0.561,\n 0.5653,\n 0.5759,\n 0.5589,\n 0.5675,\n 0.579,\n 0.5875,\n 0.5738,\n 0.5806,\n 0.5767,\n 0.5692,\n 0.5727,\n 0.5881,\n 0.5871,\n 0.5919,\n 0.5848,\n 0.5813,\n 0.5957,\n 0.5934,\n 0.5923,\n 0.5888,\n 0.5979,\n 0.5893,\n 0.5928,\n 0.592,\n 0.6032,\n 0.6061,\n 0.604,\n 0.5986,\n 0.6098,\n 0.6022,\n 0.6036,\n 0.6139,\n 0.608,\n 0.6072,\n 0.6056,\n 0.6133,\n 0.6119,\n 0.618,\n 0.6128,\n 0.6139,\n 0.617,\n 0.6115,\n 0.6137,\n 0.6171,\n 0.6183,\n 0.6122,\n 0.6219,\n 0.6146,\n 0.61,\n 0.6093,\n 0.627,\n 0.6197,\n 0.6195,\n 0.6209,\n 0.6239,\n 0.625,\n 0.626,\n 0.625,\n 0.623,\n 0.6333,\n 0.6255,\n 0.6231,\n 0.6268,\n 0.6246,\n 0.6248,\n 0.6279,\n 0.625,\n 0.628,\n 0.6213,\n 0.6231,\n 0.631,\n 0.6256,\n 0.6274,\n 0.623,\n 0.6237,\n 0.6287,\n 0.6303,\n 0.6299,\n 0.631,\n 0.6357,\n 0.6303,\n 0.6345,\n 0.631,\n 0.625,\n 0.6306,\n 0.6344,\n 0.637,\n 0.6346,\n 0.6289,\n 0.6332,\n 0.6348,\n 0.6285,\n 0.6332,\n 0.6324,\n 0.6267,\n 0.6383,\n 0.6358,\n 0.6302,\n 0.6322,\n 0.6338,\n 0.6347,\n 0.6358,\n 0.633,\n 0.6331,\n 0.637,\n 0.6343,\n 0.6317,\n 0.6368,\n 0.6339,\n 0.6345,\n 0.633,\n 0.6336,\n 0.6365,\n 0.6364,\n 0.641,\n 0.6352,\n 0.6431,\n 0.6376,\n 0.6373,\n 0.6259,\n 0.6337,\n 0.6352,\n 0.6355,\n 0.6384,\n 0.6411,\n 0.6397,\n 0.635,\n 0.634,\n 0.6371,\n 0.6379,\n 0.6385,\n 0.6401,\n 0.6403,\n 0.6348,\n 0.637,\n 0.6386,\n 0.6374,\n 0.6313,\n 0.638,\n 0.6328,\n 0.6397,\n 0.632,\n 0.6369,\n 0.6355,\n 0.6378,\n 0.6341,\n 0.635,\n 0.6358,\n 0.6443,\n 0.6407,\n 0.6364,\n 0.6417,\n 0.6394,\n 0.6343,\n 0.6377,\n 0.6313,\n 0.6316,\n 0.6332,\n 0.6406,\n 0.6355,\n 0.6365,\n 0.6337,\n 0.6327,\n 0.6313,\n 0.6393,\n 0.64,\n 0.6393,\n 0.6404,\n 0.6369,\n 0.6369,\n 0.6328,\n 0.6339,\n 0.6327,\n 0.6332,\n 0.6339,\n 0.6366,\n 0.6314,\n 0.6399,\n 0.6411,\n 0.6401,\n 0.6402,\n 0.6392,\n 0.6343,\n 0.6343,\n 0.633,\n 0.6389,\n 0.6382,\n 0.6326,\n 0.6365,\n 0.6346,\n 0.6315,\n 0.636,\n 0.6361,\n 0.6338,\n 0.6317,\n 0.6374,\n 0.6329,\n 0.6342,\n 0.6353,\n 0.6318,\n 0.6348,\n 0.633,\n 0.6336,\n 0.6316,\n 0.636,\n 0.6348,\n 0.6239,\n 0.63,\n 0.6346,\n 0.6336,\n 0.6302,\n 0.6291,\n 0.6353,\n 0.6369,\n 0.6326,\n 0.634,\n 0.631,\n 0.6274,\n 0.6327,\n 0.6295,\n 0.6359,\n 0.6346,\n 0.6301,\n 0.6269,\n 0.6271,\n 0.6326,\n 0.6283,\n 0.6327,\n 0.6304,\n 0.6274,\n 0.6261,\n 0.6322,\n 0.6286,\n 0.6318,\n 0.6298,\n 0.6281,\n 0.624]"
     },
     "execution_count": 3,
     "metadata": {},
     "output_type": "execute_result"
    }
   ],
   "source": [
    "income_time_df = pd.read_csv(\"income_flower_time.txt\").iloc[:, 0]\n",
    "\n",
    "income_time_arr = []\n",
    "for i in range(len(income_time_df)):\n",
    "    cur_val = float(income_time_df[i][5:])\n",
    "    income_time_arr.append(cur_val)\n",
    "\n",
    "for i in range(1, len(income_time_arr)):\n",
    "    income_time_arr[i] = income_time_arr[i] - income_time_arr[0]"
   ],
   "metadata": {
    "collapsed": false,
    "pycharm": {
     "name": "#%%\n"
    }
   }
  },
  {
   "cell_type": "code",
   "execution_count": null,
   "outputs": [],
   "source": [],
   "metadata": {
    "collapsed": false,
    "pycharm": {
     "name": "#%%\n"
    }
   }
  }
 ],
 "metadata": {
  "kernelspec": {
   "display_name": "Python 3",
   "language": "python",
   "name": "python3"
  },
  "language_info": {
   "codemirror_mode": {
    "name": "ipython",
    "version": 2
   },
   "file_extension": ".py",
   "mimetype": "text/x-python",
   "name": "python",
   "nbconvert_exporter": "python",
   "pygments_lexer": "ipython2",
   "version": "2.7.6"
  }
 },
 "nbformat": 4,
 "nbformat_minor": 0
}