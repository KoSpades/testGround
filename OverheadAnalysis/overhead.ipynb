{
 "cells": [
  {
   "cell_type": "code",
   "execution_count": 51,
   "outputs": [],
   "source": [
    "# All the csvs we are reading in has exactly 25 rows\n",
    "# every 5 row correspond to a particular (# of function, # of DE) combination.\n",
    "# Which gives us 20 different combos in total.\n",
    "\n",
    "import pandas as pd\n",
    "import numpy as np\n",
    "import matplotlib.pyplot as plt"
   ],
   "metadata": {
    "collapsed": false,
    "pycharm": {
     "name": "#%%\n"
    }
   }
  },
  {
   "cell_type": "code",
   "execution_count": 52,
   "outputs": [],
   "source": [
    "raw_df = pd.read_csv(\"block100.csv\", header=None)\n",
    "raw_arr = np.array(raw_df).reshape(5, 5, 5)"
   ],
   "metadata": {
    "collapsed": false,
    "pycharm": {
     "name": "#%%\n"
    }
   }
  },
  {
   "cell_type": "code",
   "execution_count": 53,
   "outputs": [],
   "source": [
    "med_array = []\n",
    "for i in range(5):\n",
    "    cur_med = np.median(raw_arr[i], axis=0)\n",
    "    med_array.append(cur_med)\n",
    "med_array = np.transpose(med_array)"
   ],
   "metadata": {
    "collapsed": false,
    "pycharm": {
     "name": "#%%\n"
    }
   }
  },
  {
   "cell_type": "code",
   "execution_count": 54,
   "outputs": [],
   "source": [
    "# Set labels for the x-axis\n",
    "num_DE = [\"10\", \"100\", \"500\", \"1000\", \"5000\"]"
   ],
   "metadata": {
    "collapsed": false,
    "pycharm": {
     "name": "#%%\n"
    }
   }
  },
  {
   "cell_type": "code",
   "execution_count": 55,
   "outputs": [
    {
     "data": {
      "text/plain": "array([[2.72512436e-03, 2.74634361e-03, 2.70485878e-03, 2.82025337e-03,\n        2.93040276e-03],\n       [2.54061222e-02, 2.41535664e-01, 1.22657418e+00, 2.43719363e+00,\n        1.15820050e+01],\n       [3.43441963e-03, 5.75613976e-03, 1.62622929e-02, 2.96602249e-02,\n        1.38812304e-01],\n       [8.19420815e-03, 9.91964340e-03, 1.00026131e-02, 1.18255615e-02,\n        1.89423561e-02],\n       [1.87349319e-03, 3.10683250e-03, 2.70938873e-03, 3.08465958e-03,\n        2.93374062e-03]])"
     },
     "execution_count": 55,
     "metadata": {},
     "output_type": "execute_result"
    }
   ],
   "source": [
    "# Taking a look at med_array (each column corresponds to a different # of DE)\n",
    "# Different rows corresponds to overhead from different components of the DS\n",
    "\n",
    "med_array"
   ],
   "metadata": {
    "collapsed": false,
    "pycharm": {
     "name": "#%%\n"
    }
   }
  },
  {
   "cell_type": "code",
   "execution_count": 56,
   "outputs": [
    {
     "data": {
      "text/plain": "<Figure size 432x288 with 1 Axes>",
      "image/png": "[encoded data removed]"
     },
     "metadata": {
      "needs_background": "light"
     },
     "output_type": "display_data"
    }
   ],
   "source": [
    "fig, ax = plt.subplots()\n",
    "ax.bar(num_DE, med_array[0], label='Obtain agent ID')\n",
    "ax.bar(num_DE, med_array[1], bottom=med_array[0], label='Get accessible DE')\n",
    "ax.bar(num_DE, med_array[2], bottom=med_array[0]+med_array[1], label='Start exec enviroment')\n",
    "ax.bar(num_DE, med_array[3], bottom=med_array[0]+med_array[1]+med_array[2], label='Get accessed DE')\n",
    "ax.bar(num_DE, med_array[4], bottom=med_array[0]+med_array[1]+med_array[2]+med_array[3], label='Call audit log')\n",
    "ax.legend()\n",
    "plt.show()"
   ],
   "metadata": {
    "collapsed": false,
    "pycharm": {
     "name": "#%%\n"
    }
   }
  },
  {
   "cell_type": "code",
   "execution_count": 56,
   "outputs": [],
   "source": [],
   "metadata": {
    "collapsed": false,
    "pycharm": {
     "name": "#%%\n"
    }
   }
  }
 ],
 "metadata": {
  "kernelspec": {
   "display_name": "Python 3",
   "language": "python",
   "name": "python3"
  },
  "language_info": {
   "codemirror_mode": {
    "name": "ipython",
    "version": 2
   },
   "file_extension": ".py",
   "mimetype": "text/x-python",
   "name": "python",
   "nbconvert_exporter": "python",
   "pygments_lexer": "ipython2",
   "version": "2.7.6"
  }
 },
 "nbformat": 4,
 "nbformat_minor": 0
}