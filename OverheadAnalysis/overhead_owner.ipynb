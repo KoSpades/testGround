{
 "cells": [
  {
   "cell_type": "code",
   "execution_count": 1,
   "metadata": {
    "collapsed": true,
    "pycharm": {
     "name": "#%%\n"
    }
   },
   "outputs": [],
   "source": [
    "import pandas as pd\n",
    "import numpy as np\n",
    "import matplotlib.pyplot as plt"
   ]
  },
  {
   "cell_type": "code",
   "execution_count": 31,
   "outputs": [],
   "source": [
    "full10_df = pd.read_csv(\"full_10kb.csv\", header=None)\n",
    "full1000_df = pd.read_csv(\"full_1000kb.csv\", header=None)\n",
    "full100000_df = pd.read_csv(\"full_100000kb.csv\", header=None)\n",
    "\n",
    "no10_df = pd.read_csv(\"no_10kb.csv\", header=None)\n",
    "no1000_df = pd.read_csv(\"no_1000kb.csv\", header=None)\n",
    "no100000_df = pd.read_csv(\"no_100000kb.csv\", header=None)"
   ],
   "metadata": {
    "collapsed": false,
    "pycharm": {
     "name": "#%%\n"
    }
   }
  },
  {
   "cell_type": "code",
   "execution_count": 5,
   "outputs": [
    {
     "data": {
      "text/plain": "        0         1         2         3         4         5         6    \\\n0  0.281364  0.276528  0.279218  0.283117  0.287101  0.278348  0.283074   \n1  0.018329  0.012319  0.012418  0.013502  0.014629  0.013126  0.014187   \n2  0.015019  0.014272  0.014667  0.014316  0.016092  0.016654  0.016032   \n\n        7         8         9    ...       190       191       192       193  \\\n0  0.280286  0.282458  0.280228  ...  0.286203  0.284270  0.283321  0.288970   \n1  0.012492  0.011496  0.012681  ...  0.012483  0.011845  0.011090  0.010161   \n2  0.015398  0.015863  0.015817  ...  0.012065  0.013095  0.014762  0.015517   \n\n        194       195       196       197       198       199  \n0  0.285975  0.286817  0.292560  0.291512  0.297476  0.293844  \n1  0.010225  0.011672  0.010732  0.010161  0.010103  0.010463  \n2  0.015845  0.015070  0.014626  0.013358  0.013738  0.014190  \n\n[3 rows x 200 columns]",
      "text/html": "<div>\n<style scoped>\n    .dataframe tbody tr th:only-of-type {\n        vertical-align: middle;\n    }\n\n    .dataframe tbody tr th {\n        vertical-align: top;\n    }\n\n    .dataframe thead th {\n        text-align: right;\n    }\n</style>\n<table border=\"1\" class=\"dataframe\">\n  <thead>\n    <tr style=\"text-align: right;\">\n      <th></th>\n      <th>0</th>\n      <th>1</th>\n      <th>2</th>\n      <th>3</th>\n      <th>4</th>\n      <th>5</th>\n      <th>6</th>\n      <th>7</th>\n      <th>8</th>\n      <th>9</th>\n      <th>...</th>\n      <th>190</th>\n      <th>191</th>\n      <th>192</th>\n      <th>193</th>\n      <th>194</th>\n      <th>195</th>\n      <th>196</th>\n      <th>197</th>\n      <th>198</th>\n      <th>199</th>\n    </tr>\n  </thead>\n  <tbody>\n    <tr>\n      <th>0</th>\n      <td>0.281364</td>\n      <td>0.276528</td>\n      <td>0.279218</td>\n      <td>0.283117</td>\n      <td>0.287101</td>\n      <td>0.278348</td>\n      <td>0.283074</td>\n      <td>0.280286</td>\n      <td>0.282458</td>\n      <td>0.280228</td>\n      <td>...</td>\n      <td>0.286203</td>\n      <td>0.284270</td>\n      <td>0.283321</td>\n      <td>0.288970</td>\n      <td>0.285975</td>\n      <td>0.286817</td>\n      <td>0.292560</td>\n      <td>0.291512</td>\n      <td>0.297476</td>\n      <td>0.293844</td>\n    </tr>\n    <tr>\n      <th>1</th>\n      <td>0.018329</td>\n      <td>0.012319</td>\n      <td>0.012418</td>\n      <td>0.013502</td>\n      <td>0.014629</td>\n      <td>0.013126</td>\n      <td>0.014187</td>\n      <td>0.012492</td>\n      <td>0.011496</td>\n      <td>0.012681</td>\n      <td>...</td>\n      <td>0.012483</td>\n      <td>0.011845</td>\n      <td>0.011090</td>\n      <td>0.010161</td>\n      <td>0.010225</td>\n      <td>0.011672</td>\n      <td>0.010732</td>\n      <td>0.010161</td>\n      <td>0.010103</td>\n      <td>0.010463</td>\n    </tr>\n    <tr>\n      <th>2</th>\n      <td>0.015019</td>\n      <td>0.014272</td>\n      <td>0.014667</td>\n      <td>0.014316</td>\n      <td>0.016092</td>\n      <td>0.016654</td>\n      <td>0.016032</td>\n      <td>0.015398</td>\n      <td>0.015863</td>\n      <td>0.015817</td>\n      <td>...</td>\n      <td>0.012065</td>\n      <td>0.013095</td>\n      <td>0.014762</td>\n      <td>0.015517</td>\n      <td>0.015845</td>\n      <td>0.015070</td>\n      <td>0.014626</td>\n      <td>0.013358</td>\n      <td>0.013738</td>\n      <td>0.014190</td>\n    </tr>\n  </tbody>\n</table>\n<p>3 rows × 200 columns</p>\n</div>"
     },
     "execution_count": 5,
     "metadata": {},
     "output_type": "execute_result"
    }
   ],
   "source": [
    "full10_df.head()"
   ],
   "metadata": {
    "collapsed": false,
    "pycharm": {
     "name": "#%%\n"
    }
   }
  },
  {
   "cell_type": "code",
   "execution_count": 42,
   "outputs": [],
   "source": [
    "# Set labels for the x-axis\n",
    "component_DS = [\"Create User\", \"Encrypt DE\", \"Create DE\", \"Create Policy\"]\n",
    "component_DS_axis = np.arange(len(component_DS))*2"
   ],
   "metadata": {
    "collapsed": false,
    "pycharm": {
     "name": "#%%\n"
    }
   }
  },
  {
   "cell_type": "code",
   "execution_count": 14,
   "outputs": [
    {
     "data": {
      "text/plain": "0"
     },
     "execution_count": 14,
     "metadata": {},
     "output_type": "execute_result"
    }
   ],
   "source": [
    "component_DS_axis[0]"
   ],
   "metadata": {
    "collapsed": false,
    "pycharm": {
     "name": "#%%\n"
    }
   }
  },
  {
   "cell_type": "code",
   "execution_count": 12,
   "outputs": [
    {
     "data": {
      "text/plain": "0.2830392849445343"
     },
     "execution_count": 12,
     "metadata": {},
     "output_type": "execute_result"
    }
   ],
   "source": [
    "full10_df.iloc[0].mean()"
   ],
   "metadata": {
    "collapsed": false,
    "pycharm": {
     "name": "#%%\n"
    }
   }
  },
  {
   "cell_type": "code",
   "execution_count": 59,
   "outputs": [
    {
     "data": {
      "text/plain": "<Figure size 432x288 with 1 Axes>",
      "image/png": "[encoded data removed]"
     },
     "metadata": {
      "needs_background": "light"
     },
     "output_type": "display_data"
    }
   ],
   "source": [
    "# First we plot the bars for full trust (CU, CD, CP)\n",
    "for i in range(3):\n",
    "        if i == 0:\n",
    "                cur_df = full10_df\n",
    "        elif i == 1:\n",
    "                cur_df = full1000_df\n",
    "        else:\n",
    "                cur_df = full100000_df\n",
    "        plt.bar(component_DS_axis[0]-0.5+i*0.2,\n",
    "                cur_df.iloc[0].mean(),\n",
    "                yerr=np.std(cur_df.iloc[0]),\n",
    "                width=0.2,)\n",
    "        plt.bar(component_DS_axis[2]-0.5+i*0.2,\n",
    "                cur_df.iloc[1].mean(),\n",
    "                yerr=np.std(cur_df.iloc[1]),\n",
    "                width=0.2,)\n",
    "        plt.bar(component_DS_axis[3]-0.5+i*0.2,\n",
    "                cur_df.iloc[2].mean(),\n",
    "                yerr=np.std(cur_df.iloc[2]),\n",
    "                width=0.2,)\n",
    "\n",
    "for i in range(3):\n",
    "        if i == 0:\n",
    "                cur_df = no10_df\n",
    "        elif i == 1:\n",
    "                cur_df = no1000_df\n",
    "        else:\n",
    "                cur_df = no100000_df\n",
    "        plt.bar(component_DS_axis[0]+0.1+i*0.2,\n",
    "                cur_df.iloc[0].mean(),\n",
    "                yerr=np.std(cur_df.iloc[0]),\n",
    "                width=0.2,)\n",
    "        plt.bar(component_DS_axis[1]+0.1+i*0.2,\n",
    "                cur_df.iloc[1].mean(),\n",
    "                yerr=np.std(cur_df.iloc[1]),\n",
    "                width=0.2,)\n",
    "        plt.bar(component_DS_axis[2]+0.1+i*0.2,\n",
    "                cur_df.iloc[2].mean(),\n",
    "                yerr=np.std(cur_df.iloc[2]),\n",
    "                width=0.2,)\n",
    "        plt.bar(component_DS_axis[3]+0.1+i*0.2,\n",
    "                cur_df.iloc[3].mean(),\n",
    "                yerr=np.std(cur_df.iloc[3]),\n",
    "                width=0.2,)\n",
    "\n",
    "plt.ylim(0, 0.02)\n",
    "plt.xticks(component_DS_axis, component_DS)\n",
    "plt.savefig(\"test_owner.pdf\", facecolor='w')\n",
    "\n",
    "# some possible values to set for the breaks:\n",
    "# 0.02, 0.4, 1, 2\n"
   ],
   "metadata": {
    "collapsed": false,
    "pycharm": {
     "name": "#%%\n"
    }
   }
  },
  {
   "cell_type": "code",
   "execution_count": null,
   "outputs": [],
   "source": [],
   "metadata": {
    "collapsed": false,
    "pycharm": {
     "name": "#%%\n"
    }
   }
  }
 ],
 "metadata": {
  "kernelspec": {
   "display_name": "Python 3",
   "language": "python",
   "name": "python3"
  },
  "language_info": {
   "codemirror_mode": {
    "name": "ipython",
    "version": 2
   },
   "file_extension": ".py",
   "mimetype": "text/x-python",
   "name": "python",
   "nbconvert_exporter": "python",
   "pygments_lexer": "ipython2",
   "version": "2.7.6"
  }
 },
 "nbformat": 4,
 "nbformat_minor": 0
}