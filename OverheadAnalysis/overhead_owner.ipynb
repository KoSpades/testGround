{
 "cells": [
  {
   "cell_type": "code",
   "execution_count": 2,
   "metadata": {
    "collapsed": true,
    "pycharm": {
     "name": "#%%\n"
    }
   },
   "outputs": [],
   "source": [
    "import pandas as pd\n",
    "import numpy as np\n",
    "import matplotlib.pyplot as plt"
   ]
  },
  {
   "cell_type": "code",
   "execution_count": 5,
   "outputs": [],
   "source": [
    "full10_df = pd.read_csv(\"full_10kb.csv\", header=None)\n",
    "full1000_df = pd.read_csv(\"full_1000kb.csv\", header=None)\n",
    "full100000_df = pd.read_csv(\"full_100000kb.csv\", header=None)\n",
    "\n",
    "full_df = [full10_df, full1000_df, full100000_df]\n",
    "full_df = pd.concat(full_df)\n",
    "full_arr = np.array(full_df).transpose()"
   ],
   "metadata": {
    "collapsed": false,
    "pycharm": {
     "name": "#%%\n"
    }
   }
  },
  {
   "cell_type": "code",
   "execution_count": 9,
   "outputs": [],
   "source": [
    "# Set labels for the x-axis\n",
    "size_DE = [\"10KB\", \"1MB\", \"100MB\"]"
   ],
   "metadata": {
    "collapsed": false,
    "pycharm": {
     "name": "#%%\n"
    }
   }
  },
  {
   "cell_type": "code",
   "execution_count": 10,
   "outputs": [
    {
     "data": {
      "text/plain": "<Figure size 432x288 with 1 Axes>",
      "image/png": "[encoded data removed]"
     },
     "metadata": {
      "needs_background": "light"
     },
     "output_type": "display_data"
    }
   ],
   "source": [
    "fig, ax = plt.subplots()\n",
    "ax.bar(size_DE, full_arr[0], label='Uploading Users')\n",
    "ax.bar(size_DE, full_arr[1], bottom=full_arr[0], label='Uploading Datasets')\n",
    "ax.bar(size_DE, full_arr[2], bottom=full_arr[0]+full_arr[1], label='Uploading Policies')\n",
    "ax.legend()\n",
    "plt.savefig(\"owner_full.png\", facecolor='w')"
   ],
   "metadata": {
    "collapsed": false,
    "pycharm": {
     "name": "#%%\n"
    }
   }
  },
  {
   "cell_type": "code",
   "execution_count": 11,
   "outputs": [],
   "source": [
    "no10_df = pd.read_csv(\"no_10kb.csv\", header=None)\n",
    "no1000_df = pd.read_csv(\"no_1000kb.csv\", header=None)\n",
    "no100000_df = pd.read_csv(\"no_100000kb.csv\", header=None)\n",
    "\n",
    "no_df = [no10_df, no1000_df, no100000_df]\n",
    "no_df = pd.concat(no_df)\n",
    "no_arr = np.array(no_df).transpose()"
   ],
   "metadata": {
    "collapsed": false,
    "pycharm": {
     "name": "#%%\n"
    }
   }
  },
  {
   "cell_type": "code",
   "execution_count": 12,
   "outputs": [
    {
     "data": {
      "text/plain": "<Figure size 432x288 with 1 Axes>",
      "image/png": "[encoded data removed]"
     },
     "metadata": {
      "needs_background": "light"
     },
     "output_type": "display_data"
    }
   ],
   "source": [
    "fig, ax = plt.subplots()\n",
    "ax.bar(size_DE, no_arr[0], label='Uploading Users')\n",
    "ax.bar(size_DE, no_arr[1], bottom=no_arr[0], label='Encrypting Datasets')\n",
    "ax.bar(size_DE, no_arr[2], bottom=no_arr[0]+no_arr[1], label='Uploading Datasets')\n",
    "ax.bar(size_DE, no_arr[3], bottom=no_arr[0]+no_arr[1]+no_arr[2], label='Uploading Policies')\n",
    "ax.legend()\n",
    "plt.savefig(\"owner_no.png\", facecolor='w')"
   ],
   "metadata": {
    "collapsed": false,
    "pycharm": {
     "name": "#%%\n"
    }
   }
  },
  {
   "cell_type": "code",
   "execution_count": null,
   "outputs": [],
   "source": [],
   "metadata": {
    "collapsed": false,
    "pycharm": {
     "name": "#%%\n"
    }
   }
  }
 ],
 "metadata": {
  "kernelspec": {
   "display_name": "Python 3",
   "language": "python",
   "name": "python3"
  },
  "language_info": {
   "codemirror_mode": {
    "name": "ipython",
    "version": 2
   },
   "file_extension": ".py",
   "mimetype": "text/x-python",
   "name": "python",
   "nbconvert_exporter": "python",
   "pygments_lexer": "ipython2",
   "version": "2.7.6"
  }
 },
 "nbformat": 4,
 "nbformat_minor": 0
}