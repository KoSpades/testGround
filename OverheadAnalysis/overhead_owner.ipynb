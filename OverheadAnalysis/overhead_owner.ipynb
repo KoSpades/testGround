{
 "cells": [
  {
   "cell_type": "code",
   "execution_count": 73,
   "metadata": {
    "collapsed": true,
    "pycharm": {
     "name": "#%%\n"
    }
   },
   "outputs": [],
   "source": [
    "import pandas as pd\n",
    "import numpy as np\n",
    "import matplotlib.pyplot as plt"
   ]
  },
  {
   "cell_type": "code",
   "execution_count": 74,
   "outputs": [],
   "source": [
    "full10_df = pd.read_csv(\"full_10kb.csv\", header=None)\n",
    "full1000_df = pd.read_csv(\"full_1000kb.csv\", header=None)\n",
    "full100000_df = pd.read_csv(\"full_100000kb.csv\", header=None)\n",
    "\n",
    "no10_df = pd.read_csv(\"no_10kb.csv\", header=None)\n",
    "no1000_df = pd.read_csv(\"no_1000kb.csv\", header=None)\n",
    "no100000_df = pd.read_csv(\"no_100000kb.csv\", header=None)"
   ],
   "metadata": {
    "collapsed": false,
    "pycharm": {
     "name": "#%%\n"
    }
   }
  },
  {
   "cell_type": "code",
   "execution_count": 76,
   "outputs": [],
   "source": [
    "# full10_df.head()"
   ],
   "metadata": {
    "collapsed": false,
    "pycharm": {
     "name": "#%%\n"
    }
   }
  },
  {
   "cell_type": "code",
   "execution_count": 77,
   "outputs": [],
   "source": [
    "# Set labels for the x-axis\n",
    "component_DS = [\"Create User\", \"Encrypt DE\", \"Create DE\", \"Create Policy\"]\n",
    "component_DS_axis = np.arange(len(component_DS))*1.5"
   ],
   "metadata": {
    "collapsed": false,
    "pycharm": {
     "name": "#%%\n"
    }
   }
  },
  {
   "cell_type": "code",
   "execution_count": 79,
   "outputs": [],
   "source": [
    "# component_DS_axis[0]"
   ],
   "metadata": {
    "collapsed": false,
    "pycharm": {
     "name": "#%%\n"
    }
   }
  },
  {
   "cell_type": "code",
   "execution_count": 80,
   "outputs": [
    {
     "data": {
      "text/plain": "0.2830392849445343"
     },
     "execution_count": 80,
     "metadata": {},
     "output_type": "execute_result"
    }
   ],
   "source": [
    "full10_df.iloc[0].mean()"
   ],
   "metadata": {
    "collapsed": false,
    "pycharm": {
     "name": "#%%\n"
    }
   }
  },
  {
   "cell_type": "code",
   "execution_count": 97,
   "outputs": [
    {
     "data": {
      "text/plain": "<Figure size 2400x1280 with 0 Axes>"
     },
     "metadata": {},
     "output_type": "display_data"
    },
    {
     "data": {
      "text/plain": "<Figure size 432x288 with 2 Axes>",
      "image/png": "[encoded data removed]"
     },
     "metadata": {
      "needs_background": "light"
     },
     "output_type": "display_data"
    }
   ],
   "source": [
    "plt.figure(figsize=(7.5, 4), dpi=320)\n",
    "\n",
    "f, (ax, ax2) = plt.subplots(2, 1, sharex=True, gridspec_kw={'height_ratios': [1, 9]})\n",
    "\n",
    "# First we plot the bars for full trust (CU, CD, CP)\n",
    "for i in range(3):\n",
    "        if i == 0:\n",
    "                cur_df = full10_df\n",
    "        elif i == 1:\n",
    "                cur_df = full1000_df\n",
    "        else:\n",
    "                cur_df = full100000_df\n",
    "        ax2.bar(component_DS_axis[0]-0.5+i*0.2,\n",
    "                cur_df.iloc[0].mean(),\n",
    "                yerr=np.std(cur_df.iloc[0]),\n",
    "                width=0.2,)\n",
    "        ax2.bar(component_DS_axis[2]-0.5+i*0.2,\n",
    "                cur_df.iloc[1].mean(),\n",
    "                yerr=np.std(cur_df.iloc[1]),\n",
    "                width=0.2,)\n",
    "        ax2.bar(component_DS_axis[3]-0.5+i*0.2,\n",
    "                cur_df.iloc[2].mean(),\n",
    "                yerr=np.std(cur_df.iloc[2]),\n",
    "                width=0.2,)\n",
    "\n",
    "# Then we plot the bars for near zero trust (CU, Enc, CD, CP)\n",
    "for i in range(3):\n",
    "        if i == 0:\n",
    "                cur_df = no10_df\n",
    "        elif i == 1:\n",
    "                cur_df = no1000_df\n",
    "        else:\n",
    "                cur_df = no100000_df\n",
    "        ax2.bar(component_DS_axis[0]+0.1+i*0.2,\n",
    "                cur_df.iloc[0].mean(),\n",
    "                yerr=np.std(cur_df.iloc[0]),\n",
    "                width=0.2,)\n",
    "        ax2.bar(component_DS_axis[1]+0.1+i*0.2,\n",
    "                cur_df.iloc[1].mean(),\n",
    "                yerr=np.std(cur_df.iloc[1]),\n",
    "                width=0.2,)\n",
    "        ax2.bar(component_DS_axis[2]+0.1+i*0.2,\n",
    "                cur_df.iloc[2].mean(),\n",
    "                yerr=np.std(cur_df.iloc[2]),\n",
    "                width=0.2,)\n",
    "        ax2.bar(component_DS_axis[3]+0.1+i*0.2,\n",
    "                cur_df.iloc[3].mean(),\n",
    "                yerr=np.std(cur_df.iloc[3]),\n",
    "                width=0.2,)\n",
    "\n",
    "for i in range(3):\n",
    "        if i == 0:\n",
    "                cur_df = full10_df\n",
    "        elif i == 1:\n",
    "                cur_df = full1000_df\n",
    "        else:\n",
    "                cur_df = full100000_df\n",
    "        ax.bar(component_DS_axis[0]-0.5+i*0.2,\n",
    "                cur_df.iloc[0].mean(),\n",
    "                yerr=np.std(cur_df.iloc[0]),\n",
    "                width=0.2,)\n",
    "        ax.bar(component_DS_axis[2]-0.5+i*0.2,\n",
    "                cur_df.iloc[1].mean(),\n",
    "                yerr=np.std(cur_df.iloc[1]),\n",
    "                width=0.2,)\n",
    "        ax.bar(component_DS_axis[3]-0.5+i*0.2,\n",
    "                cur_df.iloc[2].mean(),\n",
    "                yerr=np.std(cur_df.iloc[2]),\n",
    "                width=0.2,)\n",
    "\n",
    "# Then we plot the bars for near zero trust (CU, Enc, CD, CP)\n",
    "for i in range(3):\n",
    "        if i == 0:\n",
    "                cur_df = no10_df\n",
    "        elif i == 1:\n",
    "                cur_df = no1000_df\n",
    "        else:\n",
    "                cur_df = no100000_df\n",
    "        ax.bar(component_DS_axis[0]+0.1+i*0.2,\n",
    "                cur_df.iloc[0].mean(),\n",
    "                yerr=np.std(cur_df.iloc[0]),\n",
    "                width=0.2,)\n",
    "        ax.bar(component_DS_axis[1]+0.1+i*0.2,\n",
    "                cur_df.iloc[1].mean(),\n",
    "                yerr=np.std(cur_df.iloc[1]),\n",
    "                width=0.2,)\n",
    "        ax.bar(component_DS_axis[2]+0.1+i*0.2,\n",
    "                cur_df.iloc[2].mean(),\n",
    "                yerr=np.std(cur_df.iloc[2]),\n",
    "                width=0.2,)\n",
    "        ax.bar(component_DS_axis[3]+0.1+i*0.2,\n",
    "                cur_df.iloc[3].mean(),\n",
    "                yerr=np.std(cur_df.iloc[3]),\n",
    "                width=0.2,)\n",
    "\n",
    "# hide the spines between ax and ax2\n",
    "ax.spines['bottom'].set_visible(False)\n",
    "ax2.spines['top'].set_visible(False)\n",
    "ax.xaxis.tick_top()\n",
    "ax.tick_params(labeltop=False)  # don't put tick labels at the top\n",
    "ax2.xaxis.tick_bottom()\n",
    "\n",
    "d = .015  # how big to make the diagonal lines in axes coordinates\n",
    "# arguments to pass to plot, just so we don't keep repeating them\n",
    "kwargs = dict(transform=ax.transAxes, color='k', clip_on=False)\n",
    "ax.plot((-d, +d), (-d, +d), **kwargs)        # top-left diagonal\n",
    "ax.plot((1 - d, 1 + d), (-d, +d), **kwargs)  # top-right diagonal\n",
    "\n",
    "kwargs.update(transform=ax2.transAxes)  # switch to the bottom axes\n",
    "ax2.plot((-d, +d), (1 - d, 1 + d), **kwargs)  # bottom-left diagonal\n",
    "ax2.plot((1 - d, 1 + d), (1 - d, 1 + d), **kwargs)  # bottom-right diagonal\n",
    "\n",
    "# plt.ylim(0, 0.75)\n",
    "ax.set_ylim(1.5, 2)\n",
    "ax2.set_ylim(0, 0.75)\n",
    "plt.xticks(component_DS_axis, component_DS)\n",
    "plt.savefig(\"test_owner.pdf\", facecolor='w')\n",
    "\n",
    "# some possible values to set for the breaks:\n",
    "# 0.02, 0.4, 1, 2\n"
   ],
   "metadata": {
    "collapsed": false,
    "pycharm": {
     "name": "#%%\n"
    }
   }
  },
  {
   "cell_type": "code",
   "execution_count": null,
   "outputs": [],
   "source": [],
   "metadata": {
    "collapsed": false,
    "pycharm": {
     "name": "#%%\n"
    }
   }
  }
 ],
 "metadata": {
  "kernelspec": {
   "display_name": "Python 3",
   "language": "python",
   "name": "python3"
  },
  "language_info": {
   "codemirror_mode": {
    "name": "ipython",
    "version": 2
   },
   "file_extension": ".py",
   "mimetype": "text/x-python",
   "name": "python",
   "nbconvert_exporter": "python",
   "pygments_lexer": "ipython2",
   "version": "2.7.6"
  }
 },
 "nbformat": 4,
 "nbformat_minor": 0
}